{
 "cells": [
  {
   "cell_type": "code",
   "execution_count": 3,
   "id": "6eb75652",
   "metadata": {},
   "outputs": [],
   "source": [
    "# triage.py\n",
    "from abc import ABC, abstractmethod\n",
    "\n",
    "class Paciente(ABC):\n",
    "    def __init__(self, nombre, edad):\n",
    "        self.nombre = nombre\n",
    "        self.edad = edad\n",
    "    \n",
    "    @abstractmethod\n",
    "    def resumen(self):\n",
    "        pass\n",
    "\n",
    "    @abstractmethod\n",
    "    def prioridad(self):\n",
    "        pass\n",
    "\n",
    "    def calcular_imc(self, peso, altura):\n",
    "        if altura > 0:\n",
    "            return peso / (altura ** 2)\n",
    "        return 0\n",
    "\n",
    "class PacienteElectivo(Paciente):\n",
    "    def __init__(self, nombre, edad, motivo):\n",
    "        super().__init__(nombre, edad)\n",
    "        self.motivo = motivo\n",
    "    \n",
    "    def resumen(self):\n",
    "        return f\"Paciente Electivo: {self.nombre}, {self.edad} años. Motivo: {self.motivo}\"\n",
    "    \n",
    "    def prioridad(self):\n",
    "        return 1\n",
    "\n",
    "class PacienteUrgente(Paciente):\n",
    "    def __init__(self, nombre, edad, motivo, saturacion_o2):\n",
    "        super().__init__(nombre, edad)\n",
    "        self.motivo = motivo\n",
    "        self.saturacion_o2 = saturacion_o2\n",
    "    \n",
    "    def resumen(self):\n",
    "        return f\"Paciente Urgente: {self.nombre}, {self.edad} años. Motivo: {self.motivo}. SatO2: {self.saturacion_o2}%\"\n",
    "    \n",
    "    def prioridad(self):\n",
    "        return 100 - self.saturacion_o2\n",
    "\n",
    "class TrasladoAmbulancia(Paciente):\n",
    "    mapa_severidad = {\n",
    "        'rojo': 100,\n",
    "        'amarillo': 70,\n",
    "        'verde': 40\n",
    "    }\n",
    "    \n",
    "    def __init__(self, folio, nombre, codigo_trauma):\n",
    "        super().__init__(nombre, 0)\n",
    "        self.folio = folio\n",
    "        self.codigo_trauma = codigo_trauma.lower()\n",
    "    \n",
    "    def resumen(self):\n",
    "        return f\"Traslado en Ambulancia (Folio {self.folio}): {self.nombre}. Código: {self.codigo_trauma.upper()}\"\n",
    "    \n",
    "    def prioridad(self):\n",
    "        return self.mapa_severidad.get(self.codigo_trauma, 0)\n",
    "\n",
    "class PacienteTriage(Paciente):\n",
    "    def __init__(self, nombre, edad, peso, altura):\n",
    "        super().__init__(nombre, edad)\n",
    "        self.peso = peso\n",
    "        self.altura = altura\n",
    "    \n",
    "    def resumen(self):\n",
    "        imc = self.calcular_imc(self.peso, self.altura)\n",
    "        return f\"Paciente Triage: {self.nombre}, {self.edad} años. IMC: {imc:.2f}\"\n",
    "    \n",
    "    def prioridad(self):\n",
    "        imc = self.calcular_imc(self.peso, self.altura)\n",
    "        prioridad_base = 50\n",
    "        \n",
    "        if imc < 18.5:\n",
    "            return prioridad_base + 30\n",
    "        elif imc >= 30:\n",
    "            return prioridad_base + 40\n",
    "        return prioridad_base"
   ]
  },
  {
   "cell_type": "code",
   "execution_count": 4,
   "id": "328fd282",
   "metadata": {},
   "outputs": [],
   "source": [
    "class Hospital:\n",
    "    def __init__(self, nombre, camas):\n",
    "        self.nombre = nombre\n",
    "        self.camas_totales = camas\n",
    "        self.camas_ocupadas = 0\n",
    "        self.admitidos = []\n",
    "        self.rechazados = []\n",
    "    \n",
    "    def camas_disponibles(self):\n",
    "        return self.camas_totales - self.camas_ocupadas\n",
    "    \n",
    "    def intentar_admitir(self, ingreso):\n",
    "        if self.camas_disponibles() > 0:\n",
    "            self.admitidos.append(ingreso)\n",
    "            self.camas_ocupadas += 1\n",
    "            print(f\"Admitido: {ingreso.resumen()}\")\n",
    "        else:\n",
    "            self.rechazados.append(ingreso)\n",
    "            print(f\"Rechazado: {ingreso.resumen()}\")"
   ]
  },
  {
   "cell_type": "code",
   "execution_count": 5,
   "id": "49e242b0",
   "metadata": {},
   "outputs": [
    {
     "name": "stdout",
     "output_type": "stream",
     "text": [
      "--- Proceso de Triage ---\n",
      "Admitido: Traslado en Ambulancia (Folio A101): Carlos Gómez. Código: ROJO\n",
      "Admitido: Paciente Triage: Laura Torres, 28 años. IMC: 34.89\n",
      "Admitido: Traslado en Ambulancia (Folio A102): Sofía Mendoza. Código: AMARILLO\n",
      "Rechazado: Paciente Triage: Felipe Rojas, 55 años. IMC: 18.52\n",
      "Rechazado: Paciente Urgente: Pedro García, 78 años. Motivo: Dificultad respiratoria. SatO2: 75%\n",
      "Rechazado: Paciente Urgente: María López, 42 años. Motivo: Dolor de pecho. SatO2: 90%\n",
      "Rechazado: Paciente Electivo: Juan Pérez, 65 años. Motivo: Chequeo de rutina\n",
      "Rechazado: Paciente Electivo: Ana Silva, 33 años. Motivo: Cirugía programada\n"
     ]
    }
   ],
   "source": [
    "hospital = Hospital(\"Hospital Central\", camas=3)\n",
    "\n",
    "ingresos_mixtos = [\n",
    "    PacienteElectivo(\"Juan Pérez\", 65, \"Chequeo de rutina\"),\n",
    "    PacienteUrgente(\"María López\", 42, \"Dolor de pecho\", 90),\n",
    "    TrasladoAmbulancia(\"A101\", \"Carlos Gómez\", \"rojo\"),\n",
    "    PacienteTriage(\"Laura Torres\", 28, 95, 1.65),\n",
    "    PacienteUrgente(\"Pedro García\", 78, \"Dificultad respiratoria\", 75),\n",
    "    PacienteElectivo(\"Ana Silva\", 33, \"Cirugía programada\"),\n",
    "    PacienteTriage(\"Felipe Rojas\", 55, 60, 1.80),\n",
    "    TrasladoAmbulancia(\"A102\", \"Sofía Mendoza\", \"amarillo\")\n",
    "]\n",
    "\n",
    "ingresos_mixtos.sort(key=lambda x: x.prioridad(), reverse=True)\n",
    "\n",
    "print(\"--- Proceso de Triage ---\")\n",
    "for ingreso in ingresos_mixtos:\n",
    "    hospital.intentar_admitir(ingreso)"
   ]
  },
  {
   "cell_type": "code",
   "execution_count": 6,
   "id": "076520bd",
   "metadata": {},
   "outputs": [
    {
     "name": "stdout",
     "output_type": "stream",
     "text": [
      "\n",
      "--- Reporte Final ---\n",
      "Camas totales: 3\n",
      "Camas ocupadas: 3\n",
      "Camas disponibles: 0\n"
     ]
    }
   ],
   "source": [
    "print(\"\\n--- Reporte Final ---\")\n",
    "print(f\"Camas totales: {hospital.camas_totales}\")\n",
    "print(f\"Camas ocupadas: {hospital.camas_ocupadas}\")\n",
    "print(f\"Camas disponibles: {hospital.camas_disponibles()}\")"
   ]
  },
  {
   "cell_type": "code",
   "execution_count": 7,
   "id": "ddc236c8",
   "metadata": {},
   "outputs": [
    {
     "name": "stdout",
     "output_type": "stream",
     "text": [
      "Admitidos:\n",
      "['Carlos Gómez', 'Laura Torres', 'Sofía Mendoza']\n",
      "\n",
      "Rechazados:\n",
      "['Felipe Rojas', 'Pedro García', 'María López', 'Juan Pérez', 'Ana Silva']\n"
     ]
    }
   ],
   "source": [
    "nombres_admitidos = [p.nombre for p in hospital.admitidos]\n",
    "nombres_rechazados = [p.nombre for p in hospital.rechazados]\n",
    "\n",
    "print(\"Admitidos:\")\n",
    "print(nombres_admitidos)\n",
    "print(\"\\nRechazados:\")\n",
    "print(nombres_rechazados)"
   ]
  }
 ],
 "metadata": {
  "kernelspec": {
   "display_name": "Python 3",
   "language": "python",
   "name": "python3"
  },
  "language_info": {
   "codemirror_mode": {
    "name": "ipython",
    "version": 3
   },
   "file_extension": ".py",
   "mimetype": "text/x-python",
   "name": "python",
   "nbconvert_exporter": "python",
   "pygments_lexer": "ipython3",
   "version": "3.12.1"
  }
 },
 "nbformat": 4,
 "nbformat_minor": 5
}
